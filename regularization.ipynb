{
  "nbformat": 4,
  "nbformat_minor": 0,
  "metadata": {
    "colab": {
      "name": "regularization.ipynb",
      "provenance": [],
      "collapsed_sections": [],
      "authorship_tag": "ABX9TyPvANszCiZLlYWOABIOnw32",
      "include_colab_link": true
    },
    "kernelspec": {
      "name": "python3",
      "display_name": "Python 3"
    },
    "language_info": {
      "name": "python"
    }
  },
  "cells": [
    {
      "cell_type": "markdown",
      "metadata": {
        "id": "view-in-github",
        "colab_type": "text"
      },
      "source": [
        "<a href=\"https://colab.research.google.com/github/GerardoMayel/linear_lasso_ridge/blob/main/regularization.ipynb\" target=\"_parent\"><img src=\"https://colab.research.google.com/assets/colab-badge.svg\" alt=\"Open In Colab\"/></a>"
      ]
    },
    {
      "cell_type": "code",
      "metadata": {
        "id": "B-dOrtXkMxfZ"
      },
      "source": [
        "import pandas as pd\n",
        "import sklearn\n",
        "from sklearn.linear_model import LinearRegression\n",
        "from sklearn.linear_model import Lasso\n",
        "from sklearn.linear_model import Ridge"
      ],
      "execution_count": 1,
      "outputs": []
    },
    {
      "cell_type": "code",
      "metadata": {
        "id": "KI92VwpnNEb4"
      },
      "source": [
        "from sklearn.model_selection import train_test_split\n",
        "# Root Mean Square Error, RMSE, or mean square error\n",
        "from sklearn.metrics import mean_squared_error"
      ],
      "execution_count": 3,
      "outputs": []
    },
    {
      "cell_type": "code",
      "metadata": {
        "id": "ZPremE9yu56T"
      },
      "source": [
        "##MATPLOTLIB\n",
        "import matplotlib.pyplot as plt"
      ],
      "execution_count": 33,
      "outputs": []
    },
    {
      "cell_type": "code",
      "metadata": {
        "colab": {
          "base_uri": "https://localhost:8080/"
        },
        "id": "GsKk1jHINrQt",
        "outputId": "6b7e36cc-7b16-4240-c5d3-ad5e030a7fcc"
      },
      "source": [
        "from google.colab import drive\n",
        "drive.mount('/content/drive')"
      ],
      "execution_count": 11,
      "outputs": [
        {
          "output_type": "stream",
          "text": [
            "Drive already mounted at /content/drive; to attempt to forcibly remount, call drive.mount(\"/content/drive\", force_remount=True).\n"
          ],
          "name": "stdout"
        }
      ]
    },
    {
      "cell_type": "code",
      "metadata": {
        "colab": {
          "base_uri": "https://localhost:8080/"
        },
        "id": "3MCUlriuOT7i",
        "outputId": "95c68774-0b3c-4d75-9f44-5628fb4edaa3"
      },
      "source": [
        "%cd '/content/drive/My Drive/Machine Learning/Curso_Profesional/data'"
      ],
      "execution_count": 12,
      "outputs": [
        {
          "output_type": "stream",
          "text": [
            "/content/drive/My Drive/Machine Learning/Curso_Profesional/data\n"
          ],
          "name": "stdout"
        }
      ]
    },
    {
      "cell_type": "code",
      "metadata": {
        "colab": {
          "base_uri": "https://localhost:8080/"
        },
        "id": "5JVqse6ZOa2c",
        "outputId": "6a0b576a-4d93-4c32-f233-72dbd0586c83"
      },
      "source": [
        "!ls"
      ],
      "execution_count": 13,
      "outputs": [
        {
          "output_type": "stream",
          "text": [
            "candy.csv  felicidad.csv  heart.csv  whr2017.csv\n"
          ],
          "name": "stdout"
        }
      ]
    },
    {
      "cell_type": "code",
      "metadata": {
        "colab": {
          "base_uri": "https://localhost:8080/",
          "height": 476
        },
        "id": "emhR4L5UOcVr",
        "outputId": "05bdb410-3593-4721-ad7d-0610ad0c99e3"
      },
      "source": [
        "dataset = pd.read_csv('whr2017.csv')\n",
        "dataset"
      ],
      "execution_count": 15,
      "outputs": [
        {
          "output_type": "execute_result",
          "data": {
            "text/html": [
              "<div>\n",
              "<style scoped>\n",
              "    .dataframe tbody tr th:only-of-type {\n",
              "        vertical-align: middle;\n",
              "    }\n",
              "\n",
              "    .dataframe tbody tr th {\n",
              "        vertical-align: top;\n",
              "    }\n",
              "\n",
              "    .dataframe thead th {\n",
              "        text-align: right;\n",
              "    }\n",
              "</style>\n",
              "<table border=\"1\" class=\"dataframe\">\n",
              "  <thead>\n",
              "    <tr style=\"text-align: right;\">\n",
              "      <th></th>\n",
              "      <th>country</th>\n",
              "      <th>rank</th>\n",
              "      <th>score</th>\n",
              "      <th>high</th>\n",
              "      <th>low</th>\n",
              "      <th>gdp</th>\n",
              "      <th>family</th>\n",
              "      <th>lifexp</th>\n",
              "      <th>freedom</th>\n",
              "      <th>generosity</th>\n",
              "      <th>corruption</th>\n",
              "      <th>dystopia</th>\n",
              "    </tr>\n",
              "  </thead>\n",
              "  <tbody>\n",
              "    <tr>\n",
              "      <th>0</th>\n",
              "      <td>Norway</td>\n",
              "      <td>1</td>\n",
              "      <td>7.537</td>\n",
              "      <td>7.594445</td>\n",
              "      <td>7.479556</td>\n",
              "      <td>1.616463</td>\n",
              "      <td>1.533524</td>\n",
              "      <td>0.796667</td>\n",
              "      <td>0.635423</td>\n",
              "      <td>0.362012</td>\n",
              "      <td>0.315964</td>\n",
              "      <td>2.277027</td>\n",
              "    </tr>\n",
              "    <tr>\n",
              "      <th>1</th>\n",
              "      <td>Denmark</td>\n",
              "      <td>2</td>\n",
              "      <td>7.522</td>\n",
              "      <td>7.581728</td>\n",
              "      <td>7.462272</td>\n",
              "      <td>1.482383</td>\n",
              "      <td>1.551122</td>\n",
              "      <td>0.792566</td>\n",
              "      <td>0.626007</td>\n",
              "      <td>0.355280</td>\n",
              "      <td>0.400770</td>\n",
              "      <td>2.313707</td>\n",
              "    </tr>\n",
              "    <tr>\n",
              "      <th>2</th>\n",
              "      <td>Iceland</td>\n",
              "      <td>3</td>\n",
              "      <td>7.504</td>\n",
              "      <td>7.622030</td>\n",
              "      <td>7.385970</td>\n",
              "      <td>1.480633</td>\n",
              "      <td>1.610574</td>\n",
              "      <td>0.833552</td>\n",
              "      <td>0.627163</td>\n",
              "      <td>0.475540</td>\n",
              "      <td>0.153527</td>\n",
              "      <td>2.322715</td>\n",
              "    </tr>\n",
              "    <tr>\n",
              "      <th>3</th>\n",
              "      <td>Switzerland</td>\n",
              "      <td>4</td>\n",
              "      <td>7.494</td>\n",
              "      <td>7.561772</td>\n",
              "      <td>7.426227</td>\n",
              "      <td>1.564980</td>\n",
              "      <td>1.516912</td>\n",
              "      <td>0.858131</td>\n",
              "      <td>0.620071</td>\n",
              "      <td>0.290549</td>\n",
              "      <td>0.367007</td>\n",
              "      <td>2.276716</td>\n",
              "    </tr>\n",
              "    <tr>\n",
              "      <th>4</th>\n",
              "      <td>Finland</td>\n",
              "      <td>5</td>\n",
              "      <td>7.469</td>\n",
              "      <td>7.527542</td>\n",
              "      <td>7.410458</td>\n",
              "      <td>1.443572</td>\n",
              "      <td>1.540247</td>\n",
              "      <td>0.809158</td>\n",
              "      <td>0.617951</td>\n",
              "      <td>0.245483</td>\n",
              "      <td>0.382612</td>\n",
              "      <td>2.430182</td>\n",
              "    </tr>\n",
              "    <tr>\n",
              "      <th>...</th>\n",
              "      <td>...</td>\n",
              "      <td>...</td>\n",
              "      <td>...</td>\n",
              "      <td>...</td>\n",
              "      <td>...</td>\n",
              "      <td>...</td>\n",
              "      <td>...</td>\n",
              "      <td>...</td>\n",
              "      <td>...</td>\n",
              "      <td>...</td>\n",
              "      <td>...</td>\n",
              "      <td>...</td>\n",
              "    </tr>\n",
              "    <tr>\n",
              "      <th>150</th>\n",
              "      <td>Rwanda</td>\n",
              "      <td>151</td>\n",
              "      <td>3.471</td>\n",
              "      <td>3.543030</td>\n",
              "      <td>3.398970</td>\n",
              "      <td>0.368746</td>\n",
              "      <td>0.945707</td>\n",
              "      <td>0.326425</td>\n",
              "      <td>0.581844</td>\n",
              "      <td>0.252756</td>\n",
              "      <td>0.455220</td>\n",
              "      <td>0.540061</td>\n",
              "    </tr>\n",
              "    <tr>\n",
              "      <th>151</th>\n",
              "      <td>Syria</td>\n",
              "      <td>152</td>\n",
              "      <td>3.462</td>\n",
              "      <td>3.663669</td>\n",
              "      <td>3.260331</td>\n",
              "      <td>0.777153</td>\n",
              "      <td>0.396103</td>\n",
              "      <td>0.500533</td>\n",
              "      <td>0.081539</td>\n",
              "      <td>0.493664</td>\n",
              "      <td>0.151347</td>\n",
              "      <td>1.061574</td>\n",
              "    </tr>\n",
              "    <tr>\n",
              "      <th>152</th>\n",
              "      <td>Tanzania</td>\n",
              "      <td>153</td>\n",
              "      <td>3.349</td>\n",
              "      <td>3.461430</td>\n",
              "      <td>3.236570</td>\n",
              "      <td>0.511136</td>\n",
              "      <td>1.041990</td>\n",
              "      <td>0.364509</td>\n",
              "      <td>0.390018</td>\n",
              "      <td>0.354256</td>\n",
              "      <td>0.066035</td>\n",
              "      <td>0.621130</td>\n",
              "    </tr>\n",
              "    <tr>\n",
              "      <th>153</th>\n",
              "      <td>Burundi</td>\n",
              "      <td>154</td>\n",
              "      <td>2.905</td>\n",
              "      <td>3.074690</td>\n",
              "      <td>2.735310</td>\n",
              "      <td>0.091623</td>\n",
              "      <td>0.629794</td>\n",
              "      <td>0.151611</td>\n",
              "      <td>0.059901</td>\n",
              "      <td>0.204435</td>\n",
              "      <td>0.084148</td>\n",
              "      <td>1.683024</td>\n",
              "    </tr>\n",
              "    <tr>\n",
              "      <th>154</th>\n",
              "      <td>Central African Republic</td>\n",
              "      <td>155</td>\n",
              "      <td>2.693</td>\n",
              "      <td>2.864884</td>\n",
              "      <td>2.521116</td>\n",
              "      <td>0.000000</td>\n",
              "      <td>0.000000</td>\n",
              "      <td>0.018773</td>\n",
              "      <td>0.270842</td>\n",
              "      <td>0.280876</td>\n",
              "      <td>0.056565</td>\n",
              "      <td>2.066005</td>\n",
              "    </tr>\n",
              "  </tbody>\n",
              "</table>\n",
              "<p>155 rows × 12 columns</p>\n",
              "</div>"
            ],
            "text/plain": [
              "                      country  rank  score  ...  generosity  corruption  dystopia\n",
              "0                      Norway     1  7.537  ...    0.362012    0.315964  2.277027\n",
              "1                     Denmark     2  7.522  ...    0.355280    0.400770  2.313707\n",
              "2                     Iceland     3  7.504  ...    0.475540    0.153527  2.322715\n",
              "3                 Switzerland     4  7.494  ...    0.290549    0.367007  2.276716\n",
              "4                     Finland     5  7.469  ...    0.245483    0.382612  2.430182\n",
              "..                        ...   ...    ...  ...         ...         ...       ...\n",
              "150                    Rwanda   151  3.471  ...    0.252756    0.455220  0.540061\n",
              "151                     Syria   152  3.462  ...    0.493664    0.151347  1.061574\n",
              "152                  Tanzania   153  3.349  ...    0.354256    0.066035  0.621130\n",
              "153                   Burundi   154  2.905  ...    0.204435    0.084148  1.683024\n",
              "154  Central African Republic   155  2.693  ...    0.280876    0.056565  2.066005\n",
              "\n",
              "[155 rows x 12 columns]"
            ]
          },
          "metadata": {
            "tags": []
          },
          "execution_count": 15
        }
      ]
    },
    {
      "cell_type": "code",
      "metadata": {
        "colab": {
          "base_uri": "https://localhost:8080/",
          "height": 319
        },
        "id": "thT5AUBhPAcw",
        "outputId": "fe886b9e-e63f-47fd-9280-e97a0e863949"
      },
      "source": [
        "dataset.describe()"
      ],
      "execution_count": 16,
      "outputs": [
        {
          "output_type": "execute_result",
          "data": {
            "text/html": [
              "<div>\n",
              "<style scoped>\n",
              "    .dataframe tbody tr th:only-of-type {\n",
              "        vertical-align: middle;\n",
              "    }\n",
              "\n",
              "    .dataframe tbody tr th {\n",
              "        vertical-align: top;\n",
              "    }\n",
              "\n",
              "    .dataframe thead th {\n",
              "        text-align: right;\n",
              "    }\n",
              "</style>\n",
              "<table border=\"1\" class=\"dataframe\">\n",
              "  <thead>\n",
              "    <tr style=\"text-align: right;\">\n",
              "      <th></th>\n",
              "      <th>rank</th>\n",
              "      <th>score</th>\n",
              "      <th>high</th>\n",
              "      <th>low</th>\n",
              "      <th>gdp</th>\n",
              "      <th>family</th>\n",
              "      <th>lifexp</th>\n",
              "      <th>freedom</th>\n",
              "      <th>generosity</th>\n",
              "      <th>corruption</th>\n",
              "      <th>dystopia</th>\n",
              "    </tr>\n",
              "  </thead>\n",
              "  <tbody>\n",
              "    <tr>\n",
              "      <th>count</th>\n",
              "      <td>155.000000</td>\n",
              "      <td>155.000000</td>\n",
              "      <td>155.000000</td>\n",
              "      <td>155.000000</td>\n",
              "      <td>155.000000</td>\n",
              "      <td>155.000000</td>\n",
              "      <td>155.000000</td>\n",
              "      <td>155.000000</td>\n",
              "      <td>155.000000</td>\n",
              "      <td>155.000000</td>\n",
              "      <td>155.000000</td>\n",
              "    </tr>\n",
              "    <tr>\n",
              "      <th>mean</th>\n",
              "      <td>78.000000</td>\n",
              "      <td>5.354019</td>\n",
              "      <td>5.452326</td>\n",
              "      <td>5.255713</td>\n",
              "      <td>0.984718</td>\n",
              "      <td>1.188898</td>\n",
              "      <td>0.551341</td>\n",
              "      <td>0.408786</td>\n",
              "      <td>0.246883</td>\n",
              "      <td>0.123120</td>\n",
              "      <td>1.850238</td>\n",
              "    </tr>\n",
              "    <tr>\n",
              "      <th>std</th>\n",
              "      <td>44.888751</td>\n",
              "      <td>1.131230</td>\n",
              "      <td>1.118542</td>\n",
              "      <td>1.145030</td>\n",
              "      <td>0.420793</td>\n",
              "      <td>0.287263</td>\n",
              "      <td>0.237073</td>\n",
              "      <td>0.149997</td>\n",
              "      <td>0.134780</td>\n",
              "      <td>0.101661</td>\n",
              "      <td>0.500028</td>\n",
              "    </tr>\n",
              "    <tr>\n",
              "      <th>min</th>\n",
              "      <td>1.000000</td>\n",
              "      <td>2.693000</td>\n",
              "      <td>2.864884</td>\n",
              "      <td>2.521116</td>\n",
              "      <td>0.000000</td>\n",
              "      <td>0.000000</td>\n",
              "      <td>0.000000</td>\n",
              "      <td>0.000000</td>\n",
              "      <td>0.000000</td>\n",
              "      <td>0.000000</td>\n",
              "      <td>0.377914</td>\n",
              "    </tr>\n",
              "    <tr>\n",
              "      <th>25%</th>\n",
              "      <td>39.500000</td>\n",
              "      <td>4.505500</td>\n",
              "      <td>4.608172</td>\n",
              "      <td>4.374955</td>\n",
              "      <td>0.663371</td>\n",
              "      <td>1.042635</td>\n",
              "      <td>0.369866</td>\n",
              "      <td>0.303677</td>\n",
              "      <td>0.154106</td>\n",
              "      <td>0.057271</td>\n",
              "      <td>1.591291</td>\n",
              "    </tr>\n",
              "    <tr>\n",
              "      <th>50%</th>\n",
              "      <td>78.000000</td>\n",
              "      <td>5.279000</td>\n",
              "      <td>5.370032</td>\n",
              "      <td>5.193152</td>\n",
              "      <td>1.064578</td>\n",
              "      <td>1.253918</td>\n",
              "      <td>0.606042</td>\n",
              "      <td>0.437454</td>\n",
              "      <td>0.231538</td>\n",
              "      <td>0.089848</td>\n",
              "      <td>1.832910</td>\n",
              "    </tr>\n",
              "    <tr>\n",
              "      <th>75%</th>\n",
              "      <td>116.500000</td>\n",
              "      <td>6.101500</td>\n",
              "      <td>6.194600</td>\n",
              "      <td>6.006527</td>\n",
              "      <td>1.318027</td>\n",
              "      <td>1.414316</td>\n",
              "      <td>0.723008</td>\n",
              "      <td>0.516561</td>\n",
              "      <td>0.323762</td>\n",
              "      <td>0.153296</td>\n",
              "      <td>2.144654</td>\n",
              "    </tr>\n",
              "    <tr>\n",
              "      <th>max</th>\n",
              "      <td>155.000000</td>\n",
              "      <td>7.537000</td>\n",
              "      <td>7.622030</td>\n",
              "      <td>7.479556</td>\n",
              "      <td>1.870766</td>\n",
              "      <td>1.610574</td>\n",
              "      <td>0.949492</td>\n",
              "      <td>0.658249</td>\n",
              "      <td>0.838075</td>\n",
              "      <td>0.464308</td>\n",
              "      <td>3.117485</td>\n",
              "    </tr>\n",
              "  </tbody>\n",
              "</table>\n",
              "</div>"
            ],
            "text/plain": [
              "             rank       score        high  ...  generosity  corruption    dystopia\n",
              "count  155.000000  155.000000  155.000000  ...  155.000000  155.000000  155.000000\n",
              "mean    78.000000    5.354019    5.452326  ...    0.246883    0.123120    1.850238\n",
              "std     44.888751    1.131230    1.118542  ...    0.134780    0.101661    0.500028\n",
              "min      1.000000    2.693000    2.864884  ...    0.000000    0.000000    0.377914\n",
              "25%     39.500000    4.505500    4.608172  ...    0.154106    0.057271    1.591291\n",
              "50%     78.000000    5.279000    5.370032  ...    0.231538    0.089848    1.832910\n",
              "75%    116.500000    6.101500    6.194600  ...    0.323762    0.153296    2.144654\n",
              "max    155.000000    7.537000    7.622030  ...    0.838075    0.464308    3.117485\n",
              "\n",
              "[8 rows x 11 columns]"
            ]
          },
          "metadata": {
            "tags": []
          },
          "execution_count": 16
        }
      ]
    },
    {
      "cell_type": "code",
      "metadata": {
        "colab": {
          "base_uri": "https://localhost:8080/"
        },
        "id": "PqjHPiKMTnVj",
        "outputId": "2f675993-2c0d-4799-99a9-6b2090c026da"
      },
      "source": [
        "#features\n",
        "x= dataset[['gdp','family', 'lifexp', 'freedom', 'corruption', 'generosity', 'dystopia']]\n",
        "y = dataset[['score']]\n",
        "\n",
        "print(x.shape)\n",
        "print(y.shape)"
      ],
      "execution_count": 18,
      "outputs": [
        {
          "output_type": "stream",
          "text": [
            "(155, 7)\n",
            "(155, 1)\n"
          ],
          "name": "stdout"
        }
      ]
    },
    {
      "cell_type": "code",
      "metadata": {
        "colab": {
          "base_uri": "https://localhost:8080/"
        },
        "id": "o1_3gufqUUhj",
        "outputId": "ebff7ffb-e7db-4566-c4f6-65df9a4e6dae"
      },
      "source": [
        "x_train, x_test, y_train, y_test = train_test_split(x,y, test_size = 0.25 )\n",
        "print(x_train.shape)\n",
        "print(x_test.shape)\n",
        "print(y_train.shape)\n",
        "print(y_test.shape)"
      ],
      "execution_count": 21,
      "outputs": [
        {
          "output_type": "stream",
          "text": [
            "(116, 7)\n",
            "(39, 7)\n",
            "(116, 1)\n",
            "(39, 1)\n"
          ],
          "name": "stdout"
        }
      ]
    },
    {
      "cell_type": "code",
      "metadata": {
        "colab": {
          "base_uri": "https://localhost:8080/"
        },
        "id": "ZNhyq9H3WXTP",
        "outputId": "aa5b25e8-fc99-4d32-dda3-046b69ec0fea"
      },
      "source": [
        "# Linear Regressor\n",
        "modelLinear = LinearRegression().fit(x_train, y_train)\n",
        "y_predict_linear = modelLinear.predict(x_test)\n",
        "print(y_predict_linear.shape)"
      ],
      "execution_count": 25,
      "outputs": [
        {
          "output_type": "stream",
          "text": [
            "(39, 1)\n"
          ],
          "name": "stdout"
        }
      ]
    },
    {
      "cell_type": "code",
      "metadata": {
        "id": "6lxzt_tSYLn_"
      },
      "source": [
        "# Lasso Regression\n",
        "modelLasso = Lasso(alpha=.02).fit(x_train, y_train)\n",
        "y_predict_lasso = modelLasso.predict(x_test)"
      ],
      "execution_count": 26,
      "outputs": []
    },
    {
      "cell_type": "code",
      "metadata": {
        "id": "wyDbQG0Jjf41"
      },
      "source": [
        "#Ridge Regression\n",
        "modelRidge = Ridge(alpha=1).fit(x_train, y_train)\n",
        "y_predict_ridge = modelRidge.predict(x_test)"
      ],
      "execution_count": 27,
      "outputs": []
    },
    {
      "cell_type": "code",
      "metadata": {
        "colab": {
          "base_uri": "https://localhost:8080/"
        },
        "id": "0k6WSQF6nUBP",
        "outputId": "e0076f8c-9520-440e-cf42-16094fd5caf4"
      },
      "source": [
        "#Linear Mean Squared Error\n",
        "linear_loss = mean_squared_error(y_test, y_predict_linear)\n",
        "print(\"Linear Loss:\", linear_loss)\n",
        "print(modelLinear.coef_)"
      ],
      "execution_count": 31,
      "outputs": [
        {
          "output_type": "stream",
          "text": [
            "Linear Loss: 1.0133662600892512e-07\n",
            "[[1.00014398 0.99989198 0.99980005 1.00014147 0.99964447 1.00000906\n",
            "  0.99994104]]\n"
          ],
          "name": "stdout"
        }
      ]
    },
    {
      "cell_type": "code",
      "metadata": {
        "colab": {
          "base_uri": "https://localhost:8080/"
        },
        "id": "1h2NidoMnyfp",
        "outputId": "c65a9548-e7f6-4e78-feae-33888c771d35"
      },
      "source": [
        "#Lasso Mean Squared Error\n",
        "lasso_loss = mean_squared_error(y_test, y_predict_lasso)\n",
        "print(\"Lasso Loss:\", lasso_loss)\n",
        "print(modelLasso.coef_)"
      ],
      "execution_count": 29,
      "outputs": [
        {
          "output_type": "stream",
          "text": [
            "Lasso Loss: 0.05229191722499271\n",
            "[1.25841053 0.92100806 0.52008183 0.78235572 0.         0.13392604\n",
            " 0.86907769]\n"
          ],
          "name": "stdout"
        }
      ]
    },
    {
      "cell_type": "code",
      "metadata": {
        "colab": {
          "base_uri": "https://localhost:8080/"
        },
        "id": "G9orGHylocHb",
        "outputId": "542beba2-87a2-436d-c85a-f212c4fb7d63"
      },
      "source": [
        "#Ridge Regression Mean Squared Error\n",
        "ridge_loss = mean_squared_error(y_test, y_predict_ridge)\n",
        "print(\"Ridge Loss:\", ridge_loss)\n",
        "print(modelRidge.coef_)"
      ],
      "execution_count": 30,
      "outputs": [
        {
          "output_type": "stream",
          "text": [
            "Ridge Loss: 0.00619878345512954\n",
            "[[1.06703695 0.97021662 0.86691775 0.88738329 0.66443086 0.73379233\n",
            "  0.95110601]]\n"
          ],
          "name": "stdout"
        }
      ]
    },
    {
      "cell_type": "code",
      "metadata": {
        "colab": {
          "base_uri": "https://localhost:8080/"
        },
        "id": "8MKspbc5vBqm",
        "outputId": "ead8fd24-7804-40d9-d024-bae0703bff9b"
      },
      "source": [
        "print(x_test.shape)\n",
        "print(y_test.shape)"
      ],
      "execution_count": 35,
      "outputs": [
        {
          "output_type": "stream",
          "text": [
            "(39, 7)\n",
            "(39, 1)\n"
          ],
          "name": "stdout"
        }
      ]
    }
  ]
}